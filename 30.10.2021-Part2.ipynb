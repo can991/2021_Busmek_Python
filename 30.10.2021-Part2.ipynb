{
 "cells": [
  {
   "cell_type": "code",
   "execution_count": 9,
   "id": "efb86076",
   "metadata": {},
   "outputs": [
    {
     "name": "stdout",
     "output_type": "stream",
     "text": [
      "Bir programlama dili ekleyiniz:\tA\n",
      "['A', 'C#', 'C++', 'c']\n"
     ]
    }
   ],
   "source": [
    "#liste oluşturma ve klavyeden yeni liste elemanı ekleme\n",
    "#baş harfa göre sort etme ve listeyi tekrar yazdırma\n",
    "\n",
    "liste = [\"c\",\"C++\",\"C#\"]\n",
    "liste.append(input(\"Bir programlama dili ekleyiniz:\\t\"))\n",
    "liste.sort()\n",
    "print(liste)"
   ]
  },
  {
   "cell_type": "code",
   "execution_count": 9,
   "id": "b799ae92",
   "metadata": {},
   "outputs": [
    {
     "name": "stdout",
     "output_type": "stream",
     "text": [
      "Bir sayi giriniz:\t2\n",
      "[1, 9, 8, 2]\n"
     ]
    }
   ],
   "source": [
    "#append ve input komutu ile listeye klavyeden eleman ekleme\n",
    "\n",
    "liste = [1,9,8]\n",
    "liste.append(int(input(\"Bir sayi giriniz:\\t\")))\n",
    "print(liste)"
   ]
  },
  {
   "cell_type": "code",
   "execution_count": 5,
   "id": "a5811925",
   "metadata": {},
   "outputs": [
    {
     "data": {
      "text/plain": [
       "'ALI'"
      ]
     },
     "execution_count": 5,
     "metadata": {},
     "output_type": "execute_result"
    }
   ],
   "source": [
    "#upper komutu ile harflerin tamamını büyütme\n",
    "\n",
    "liste = \"Ali\"\n",
    "liste.upper()"
   ]
  },
  {
   "cell_type": "code",
   "execution_count": 18,
   "id": "48ccf59a",
   "metadata": {},
   "outputs": [
    {
     "name": "stdout",
     "output_type": "stream",
     "text": [
      "Bir sayi giriniz:\t5\n",
      "[9, 8, 5, 1]\n"
     ]
    }
   ],
   "source": [
    "#liste oluşturma , listeye klavyeden sayı ekleme ve\n",
    "#listedeki sayıları küçükten büyüğe sıralama\n",
    "\n",
    "liste = [1,9,8]\n",
    "liste.append(int(input(\"Bir sayi giriniz:\\t\")))\n",
    "liste.sort(reverse=True)\n",
    "print(liste)"
   ]
  },
  {
   "cell_type": "code",
   "execution_count": 1,
   "id": "562bd0e0",
   "metadata": {},
   "outputs": [
    {
     "name": "stdout",
     "output_type": "stream",
     "text": [
      "Bir sayı giriniz\t7\n",
      "Bir sayı giriniz\t8\n",
      "Bir sayı giriniz\t9\n",
      "Bir sayı giriniz\t10\n",
      "Bir sayı giriniz\t12\n",
      "Bir sayı giriniz\t15\n",
      "çift sayılar listesi [8, 10, 12]\n"
     ]
    }
   ],
   "source": [
    "#Liste de 6 eleman olana kadar klavyeden giriş yap\n",
    "#Sonra listedeki çift sayıları liste şeklinde ekrana yazdır\n",
    "\n",
    "liste = []\n",
    "while len(liste)<6:\n",
    "    liste.append(int(input(\"Bir sayı giriniz\\t\")))\n",
    "\n",
    "for x in liste:\n",
    "    if x%2!=0:\n",
    "        liste.remove(x)\n",
    "print(\"çift sayılar listesi\",liste)   "
   ]
  },
  {
   "cell_type": "code",
   "execution_count": 4,
   "id": "f7d8748c",
   "metadata": {},
   "outputs": [
    {
     "name": "stdout",
     "output_type": "stream",
     "text": [
      "Bir sayı giriniz\t5\n",
      "Girilen sayinin karesi 25\n"
     ]
    }
   ],
   "source": [
    "#def komutu ile klavyeden girilen sayı ile işlem yapma\n",
    "\n",
    "sayi = int(input(\"Bir sayı giriniz\\t\"))\n",
    "def kare():\n",
    "    kar=sayi*sayi\n",
    "    print(\"Girilen sayinin karesi\",kar)  \n",
    "kare()\n",
    "  \n"
   ]
  },
  {
   "cell_type": "code",
   "execution_count": 9,
   "id": "f0798e38",
   "metadata": {},
   "outputs": [
    {
     "name": "stdout",
     "output_type": "stream",
     "text": [
      "Bir sayı giriniz\t8\n",
      "Bir sayı giriniz\t4\n",
      "4 işlem'den birini seçiniz :\t (+ - * /)/\n",
      "Bölme\t 2.0\n"
     ]
    }
   ],
   "source": [
    "#Klaveyden sayi ve işlem tipi girip sayilara girilen koşula göre işlem yaptırma\n",
    "\n",
    "def dortislem():\n",
    "    sayi1 = int(input(\"Bir sayı giriniz\\t\"))\n",
    "    sayi2 = int(input(\"Bir sayı giriniz\\t\"))\n",
    "\n",
    "    islem = input(\"4 işlem'den birini seçiniz :\\t (+ - * /)\")\n",
    "\n",
    "    if (islem ==\"+\"):\n",
    "        print(\"Toplama\\t\",sayi1+sayi2)\n",
    "                \n",
    "    elif (islem ==\"-\"):\n",
    "        print(\"Cıkarma\\t\",sayi1-sayi2)\n",
    "        \n",
    "    elif (islem ==\"*\"):\n",
    "        print(\"Carpma\\t\",sayi1*sayi2)\n",
    "               \n",
    "    elif (islem ==\"/\"):\n",
    "        print(\"Bölme\\t\",sayi1/sayi2)\n",
    "                \n",
    "    else:\n",
    "        print(\"Hatalı Karakter Girdiniz\")\n",
    "dortislem()"
   ]
  }
 ],
 "metadata": {
  "kernelspec": {
   "display_name": "Python 3",
   "language": "python",
   "name": "python3"
  },
  "language_info": {
   "codemirror_mode": {
    "name": "ipython",
    "version": 3
   },
   "file_extension": ".py",
   "mimetype": "text/x-python",
   "name": "python",
   "nbconvert_exporter": "python",
   "pygments_lexer": "ipython3",
   "version": "3.8.11"
  }
 },
 "nbformat": 4,
 "nbformat_minor": 5
}
