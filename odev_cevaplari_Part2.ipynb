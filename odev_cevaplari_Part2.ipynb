{
 "cells": [
  {
   "cell_type": "markdown",
   "id": "fe50b609",
   "metadata": {},
   "source": [
    "## 6) 1 ile 100 arasındaki  3'e tam bölünen sayilar"
   ]
  },
  {
   "cell_type": "code",
   "execution_count": 25,
   "id": "96906b36",
   "metadata": {},
   "outputs": [
    {
     "name": "stdout",
     "output_type": "stream",
     "text": [
      "3\n",
      "6\n",
      "9\n",
      "12\n",
      "15\n",
      "18\n",
      "21\n",
      "24\n",
      "27\n",
      "30\n",
      "33\n",
      "36\n",
      "39\n",
      "42\n",
      "45\n",
      "48\n",
      "51\n",
      "54\n",
      "57\n",
      "60\n",
      "63\n",
      "66\n",
      "69\n",
      "72\n",
      "75\n",
      "78\n",
      "81\n",
      "84\n",
      "87\n",
      "90\n",
      "93\n",
      "96\n",
      "99\n"
     ]
    }
   ],
   "source": [
    "for x in range(1,100):\n",
    "    if (x%3==0):\n",
    "        print(x)\n",
    "        x+=1  "
   ]
  },
  {
   "cell_type": "markdown",
   "id": "daf62af1",
   "metadata": {},
   "source": [
    "## 7) Öğrenci geçti / kaldı uygulaması"
   ]
  },
  {
   "cell_type": "code",
   "execution_count": 28,
   "id": "8258ca22",
   "metadata": {},
   "outputs": [
    {
     "name": "stdout",
     "output_type": "stream",
     "text": [
      "Vize notunu giriniz: 24\n",
      "Final notunu giriniz: 52\n",
      "Kaldı ortalamanız 38.0\n"
     ]
    }
   ],
   "source": [
    "vize = int(input(\"Vize notunu giriniz: \"))\n",
    "final = int(input(\"Final notunu giriniz: \"))\n",
    "\n",
    "ort = (vize+final)/2\n",
    "\n",
    "if ort>40:\n",
    "    print(f\"Geçti ortalamanız {ort}\")\n",
    "else:\n",
    "    print(f\"Kaldı ortalamanız {ort}\")"
   ]
  },
  {
   "cell_type": "markdown",
   "id": "a7d6bd0d",
   "metadata": {},
   "source": [
    "## 8) Girilen sayının çift mi, tek mi olduğunu hesaplama"
   ]
  },
  {
   "cell_type": "code",
   "execution_count": 29,
   "id": "298086ff",
   "metadata": {},
   "outputs": [
    {
     "name": "stdout",
     "output_type": "stream",
     "text": [
      "Bir sayi giriniz: 5\n",
      "Tek\n"
     ]
    }
   ],
   "source": [
    "sayi = int(input(\"Bir sayi giriniz: \"))\n",
    "\n",
    "if sayi%2==0:\n",
    "    print(\"Çift\")\n",
    "else:\n",
    "    print(\"Tek\")"
   ]
  },
  {
   "cell_type": "markdown",
   "id": "474aaaa4",
   "metadata": {},
   "source": [
    "## 9) 1 ile 20 arasındaki sayıların çift olanları yazdırma"
   ]
  },
  {
   "cell_type": "code",
   "execution_count": 30,
   "id": "aa1d4a9a",
   "metadata": {},
   "outputs": [
    {
     "name": "stdout",
     "output_type": "stream",
     "text": [
      "2\n",
      "4\n",
      "6\n",
      "8\n",
      "10\n",
      "12\n",
      "14\n",
      "16\n",
      "18\n"
     ]
    }
   ],
   "source": [
    "for x in range(1,20):\n",
    "    if (x%2==0):\n",
    "        print(x)\n",
    "        x+=1  "
   ]
  },
  {
   "cell_type": "markdown",
   "id": "2378c21a",
   "metadata": {},
   "source": [
    "## 10) Klavyeden girilen vize ve final notu hesaplama (Vize %30, Final %70) "
   ]
  },
  {
   "cell_type": "code",
   "execution_count": 31,
   "id": "098e4423",
   "metadata": {},
   "outputs": [
    {
     "name": "stdout",
     "output_type": "stream",
     "text": [
      "Vize notunu giriniz: 45\n",
      "Final notunu giriniz: 55\n",
      "Geçti ortalamanız 52.0\n"
     ]
    }
   ],
   "source": [
    "vize = int(input(\"Vize notunu giriniz: \"))\n",
    "final = int(input(\"Final notunu giriniz: \"))\n",
    "\n",
    "ort = (vize*0.3)+(final*0.7)\n",
    "\n",
    "if ort>40:\n",
    "    print(f\"Geçti ortalamanız {ort}\")\n",
    "else:\n",
    "    print(f\"Kaldı ortalamanız {ort}\")"
   ]
  },
  {
   "cell_type": "code",
   "execution_count": null,
   "id": "64ff8a8b",
   "metadata": {},
   "outputs": [],
   "source": []
  }
 ],
 "metadata": {
  "kernelspec": {
   "display_name": "Python 3",
   "language": "python",
   "name": "python3"
  },
  "language_info": {
   "codemirror_mode": {
    "name": "ipython",
    "version": 3
   },
   "file_extension": ".py",
   "mimetype": "text/x-python",
   "name": "python",
   "nbconvert_exporter": "python",
   "pygments_lexer": "ipython3",
   "version": "3.8.11"
  }
 },
 "nbformat": 4,
 "nbformat_minor": 5
}
