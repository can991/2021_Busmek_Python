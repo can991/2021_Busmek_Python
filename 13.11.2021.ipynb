{
 "cells": [
  {
   "cell_type": "code",
   "execution_count": 3,
   "id": "637e7d04",
   "metadata": {},
   "outputs": [
    {
     "name": "stdout",
     "output_type": "stream",
     "text": [
      "Bir sayi giriniz0\n",
      "lütfen 0-100 arasında değer giriniz\n"
     ]
    }
   ],
   "source": [
    "vize = int(input(\"Bir sayi giriniz\"))\n",
    "if (vize > 0 & vize<101):\n",
    "    print(\"girilen sayi 0-100 arasındadır\")\n",
    "else:\n",
    "    print(\"lütfen 0-100 arasında değer giriniz\")"
   ]
  },
  {
   "cell_type": "code",
   "execution_count": 4,
   "id": "51a26b87",
   "metadata": {},
   "outputs": [
    {
     "name": "stdout",
     "output_type": "stream",
     "text": [
      "Bir sayı giriniz5\n",
      "Bölecek sayıyı giriniz0\n"
     ]
    },
    {
     "ename": "ZeroDivisionError",
     "evalue": "division by zero",
     "output_type": "error",
     "traceback": [
      "\u001b[1;31m---------------------------------------------------------------------------\u001b[0m",
      "\u001b[1;31mZeroDivisionError\u001b[0m                         Traceback (most recent call last)",
      "\u001b[1;32m<ipython-input-4-ba8ef9fb6db0>\u001b[0m in \u001b[0;36m<module>\u001b[1;34m\u001b[0m\n\u001b[0;32m      2\u001b[0m \u001b[0msayi2\u001b[0m \u001b[1;33m=\u001b[0m \u001b[0mint\u001b[0m\u001b[1;33m(\u001b[0m\u001b[0minput\u001b[0m\u001b[1;33m(\u001b[0m\u001b[1;34m\"Bölecek sayıyı giriniz\"\u001b[0m\u001b[1;33m)\u001b[0m\u001b[1;33m)\u001b[0m\u001b[1;33m\u001b[0m\u001b[1;33m\u001b[0m\u001b[0m\n\u001b[0;32m      3\u001b[0m \u001b[1;33m\u001b[0m\u001b[0m\n\u001b[1;32m----> 4\u001b[1;33m \u001b[0msayi3\u001b[0m \u001b[1;33m=\u001b[0m \u001b[0msayi1\u001b[0m\u001b[1;33m/\u001b[0m\u001b[0msayi2\u001b[0m\u001b[1;33m\u001b[0m\u001b[1;33m\u001b[0m\u001b[0m\n\u001b[0m\u001b[0;32m      5\u001b[0m \u001b[1;33m\u001b[0m\u001b[0m\n\u001b[0;32m      6\u001b[0m \u001b[0mprint\u001b[0m\u001b[1;33m(\u001b[0m\u001b[0msayi3\u001b[0m\u001b[1;33m)\u001b[0m\u001b[1;33m\u001b[0m\u001b[1;33m\u001b[0m\u001b[0m\n",
      "\u001b[1;31mZeroDivisionError\u001b[0m: division by zero"
     ]
    }
   ],
   "source": [
    "sayi1 = int(input(\"Bir sayı giriniz\"))\n",
    "sayi2 = int(input(\"Bölecek sayıyı giriniz\"))\n",
    "\n",
    "sayi3 = sayi1/sayi2\n",
    "\n",
    "print(sayi3)"
   ]
  },
  {
   "cell_type": "code",
   "execution_count": 17,
   "id": "10d36b35",
   "metadata": {},
   "outputs": [
    {
     "name": "stdout",
     "output_type": "stream",
     "text": [
      "Vize notu giriniz47\n",
      "Final Notu giriniz88\n",
      "37.85\n",
      "37.849999999999994\n"
     ]
    }
   ],
   "source": [
    "vize = int(input(\"Vize notu giriniz\"))\n",
    "final = int(input(\"Final Notu giriniz\"))\n",
    "ort = float(vize*0.3+final*0.7)/2\n",
    "print(round(ort,2))\n",
    "print(ort)"
   ]
  },
  {
   "cell_type": "code",
   "execution_count": 1,
   "id": "c9256c4d",
   "metadata": {},
   "outputs": [
    {
     "name": "stdout",
     "output_type": "stream",
     "text": [
      "*******************Sayisal_Loto*******************\n",
      "Sayi giriniz1\n",
      "Sayi giriniz1\n",
      "Sayi giriniz2\n",
      "Sayi giriniz2\n",
      "Sayi giriniz3\n",
      "Sayi giriniz3\n",
      "**************Sayisal Loto Sonucları**************\n",
      "[4, 0, 1, 4, 2, 5]\n",
      "[1, 1, 2, 2, 3, 3]\n",
      "0 TL kazandınız\n"
     ]
    }
   ],
   "source": [
    "x = \"Sayisal_Loto\"\n",
    "y = \"Sayisal Loto Sonucları\"\n",
    "x = x.center(50,\"*\")\n",
    "y = y.center(50,\"*\")\n",
    "print(x)\n",
    "\n",
    "import random\n",
    "\n",
    "a=0\n",
    "b=[]\n",
    "c=[]\n",
    "for i in range(1,7):\n",
    "    b.append(random.randint(0,5))\n",
    "for j in range(1,7):\n",
    "    c.append(int(input(\"Sayi giriniz\")))\n",
    "\n",
    "print(b)\n",
    "print(c)\n",
    "\n",
    "for k in range(0,6):\n",
    "    if b[k] == c[k]:\n",
    "        a+=1\n",
    "print(y)        \n",
    "print(a*10, \"TL kazandınız\")"
   ]
  },
  {
   "cell_type": "code",
   "execution_count": 37,
   "id": "1b6be9db",
   "metadata": {},
   "outputs": [
    {
     "name": "stdout",
     "output_type": "stream",
     "text": [
      "Sayi giriniz4\n",
      "Sayi giriniz5\n",
      "Sayi giriniz6\n",
      "Sayi giriniz12\n",
      "Sayi giriniz2\n",
      "Sayi giriniz2\n",
      "[2, 2, 4, 5, 0, 0]\n",
      "[4, 5, 6, 12, 2, 2]\n",
      "0 TL kazandınız\n"
     ]
    }
   ],
   "source": [
    "# () kullanarak b ve c yi oluştur \n",
    "# b tahmin edilen \n",
    "import random\n",
    "\n",
    "a=0\n",
    "b=[]\n",
    "c=[]\n",
    "for i in range(1,7):\n",
    "    b.append(random.randint(0,5))\n",
    "for j in range(1,7):\n",
    "    c.append(int(input(\"Sayi giriniz\")))\n",
    "    \n",
    "print(b)\n",
    "print(c)\n",
    "\n",
    "print(a*10, \"TL kazandınız\")"
   ]
  },
  {
   "cell_type": "code",
   "execution_count": 40,
   "id": "deb0c3f9",
   "metadata": {},
   "outputs": [
    {
     "name": "stdout",
     "output_type": "stream",
     "text": [
      "Bir sayi giriniz2\n",
      "karesi 8\n",
      "kup 4\n",
      "kok 1.41\n"
     ]
    }
   ],
   "source": [
    "#Matematiksel Foksiyonlar\n",
    "#Math komutları\n",
    "\n",
    "x = int(input(\"Bir sayi giriniz\"))\n",
    "karesi = x**x*x\n",
    "kup = x**x\n",
    "kok = x**0.5\n",
    "\n",
    "print(\"karesi\", karesi)\n",
    "print(\"kup\", kup)\n",
    "print(\"kok\",round(kok,2))"
   ]
  },
  {
   "cell_type": "code",
   "execution_count": 44,
   "id": "38dfdf10",
   "metadata": {},
   "outputs": [
    {
     "name": "stdout",
     "output_type": "stream",
     "text": [
      "Bir sayı giriniz-5\n",
      "-125.0\n",
      "5.0\n"
     ]
    }
   ],
   "source": [
    "import math\n",
    "x = int(input(\"Bir sayı giriniz\"))\n",
    "\n",
    "kuv = math.pow(x,3)\n",
    "mut = math.fabs(x)\n",
    "\n",
    "print(kuv)\n",
    "print(mut)"
   ]
  }
 ],
 "metadata": {
  "kernelspec": {
   "display_name": "Python 3",
   "language": "python",
   "name": "python3"
  },
  "language_info": {
   "codemirror_mode": {
    "name": "ipython",
    "version": 3
   },
   "file_extension": ".py",
   "mimetype": "text/x-python",
   "name": "python",
   "nbconvert_exporter": "python",
   "pygments_lexer": "ipython3",
   "version": "3.8.11"
  }
 },
 "nbformat": 4,
 "nbformat_minor": 5
}
