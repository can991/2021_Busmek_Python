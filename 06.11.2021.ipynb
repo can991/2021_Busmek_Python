{
 "cells": [
  {
   "cell_type": "code",
   "execution_count": 1,
   "id": "e355b4f5",
   "metadata": {},
   "outputs": [
    {
     "name": "stdout",
     "output_type": "stream",
     "text": [
      "5\n"
     ]
    }
   ],
   "source": [
    "b = 5\n",
    "def fonksiyon():\n",
    "    print(b)\n",
    "fonksiyon()"
   ]
  },
  {
   "cell_type": "code",
   "execution_count": 2,
   "id": "16c99538",
   "metadata": {},
   "outputs": [
    {
     "name": "stdout",
     "output_type": "stream",
     "text": [
      "15\n"
     ]
    }
   ],
   "source": [
    "def toplama (a,b,c):\n",
    "    return a+b+c\n",
    "def ikiylecarp(a):\n",
    "    return a*2\n",
    "toplam = toplama(4,5,6)\n",
    "print(toplam)"
   ]
  },
  {
   "cell_type": "code",
   "execution_count": 6,
   "id": "8e2974f0",
   "metadata": {},
   "outputs": [
    {
     "name": "stdout",
     "output_type": "stream",
     "text": [
      "Bir sayı giriniz\t2\n",
      "Bir sayı giriniz\t3\n",
      "Bir sayı giriniz\t4\n",
      "18\n"
     ]
    }
   ],
   "source": [
    "a = int(input(\"Bir sayı giriniz\\t\"))\n",
    "b = int(input(\"Bir sayı giriniz\\t\"))\n",
    "c = int(input(\"Bir sayı giriniz\\t\"))\n",
    "\n",
    "def toplama (a,b,c):\n",
    "    return a+b+c\n",
    "def ikiylecarp(a):\n",
    "    return a*2\n",
    "toplam = toplama(a,b,c)\n",
    "print(ikiylecarp(toplam))"
   ]
  },
  {
   "cell_type": "code",
   "execution_count": 15,
   "id": "44ad9fa9",
   "metadata": {},
   "outputs": [
    {
     "name": "stdout",
     "output_type": "stream",
     "text": [
      "Bir sayı giriniz\t5\n",
      "Bir sayı giriniz\t6\n",
      "Bir sayı giriniz\t7\n"
     ]
    },
    {
     "data": {
      "text/plain": [
       "18"
      ]
     },
     "execution_count": 15,
     "metadata": {},
     "output_type": "execute_result"
    }
   ],
   "source": [
    "a = int(input(\"Bir sayı giriniz\\t\"))\n",
    "b = int(input(\"Bir sayı giriniz\\t\"))\n",
    "c = int(input(\"Bir sayı giriniz\\t\"))\n",
    "\n",
    "def toplama():\n",
    "    return(a+b+c)\n",
    "\n",
    "def ikiylecarp():\n",
    "    return a*2\n",
    "\n",
    "toplama()"
   ]
  },
  {
   "cell_type": "code",
   "execution_count": 21,
   "id": "66e355aa",
   "metadata": {},
   "outputs": [
    {
     "name": "stdout",
     "output_type": "stream",
     "text": [
      "bir sayı giriniz5\n",
      "Random sayı 571\n",
      "yanlış tahmin ettiniz\n"
     ]
    }
   ],
   "source": [
    "tahmin =int(input(\"bir sayı giriniz\"))\n",
    "\n",
    "import random\n",
    "\n",
    "rastgelesayi = random.randint(0,1000)\n",
    "print(\"Random sayı\",rastgelesayi)\n",
    "\n",
    "if tahmin==rastgelesayi:\n",
    "    print(\"Doğru tahmin ettiniz\")\n",
    "else:\n",
    "    print(\"yanlış tahmin ettiniz\")"
   ]
  },
  {
   "cell_type": "code",
   "execution_count": 1,
   "id": "4bfc3884",
   "metadata": {},
   "outputs": [
    {
     "name": "stdout",
     "output_type": "stream",
     "text": [
      "Bir sayı tahmin ediniz5\n",
      "Yanlış tahmin ettiniz\n",
      "Bir sayı tahmin ediniz6\n",
      "Yanlış tahmin ettiniz\n",
      "Bir sayı tahmin ediniz7\n",
      "Doğru tahmin ettiniz\n"
     ]
    }
   ],
   "source": [
    "import random\n",
    "rastgelesayi = random.randint(0,10)\n",
    "\n",
    "while True:\n",
    "    tahmin = int(input(\"Bir sayı tahmin ediniz\"))\n",
    "    \n",
    "    if tahmin!=rastgelesayi:\n",
    "        print(\"Yanlış tahmin ettiniz\")\n",
    "    else:\n",
    "        print(\"Doğru tahmin ettiniz\")\n",
    "        break      "
   ]
  },
  {
   "cell_type": "code",
   "execution_count": 10,
   "id": "b4dc1676",
   "metadata": {},
   "outputs": [
    {
     "name": "stdout",
     "output_type": "stream",
     "text": [
      "Baslangıç sayısı giriniz4\n",
      "Bitis sayısı giriniz6\n",
      "toplam 15\n",
      "sayac 3\n",
      "ilk giriline sayi 4\n",
      "Son giriline sayi 6\n",
      "Ortalama 5.0\n"
     ]
    }
   ],
   "source": [
    "#sayi örneği\n",
    "toplam = 0\n",
    "sayac= 0\n",
    "\n",
    "baslangic = int(input(\"Baslangıç sayısı giriniz\"))\n",
    "bitis = int(input(\"Bitis sayısı giriniz\"))\n",
    "\n",
    "for x in range(baslangic,bitis+1):\n",
    "    toplam=toplam+x\n",
    "    sayac= (sayac+1)\n",
    "    ort= (toplam/sayac)\n",
    "\n",
    "print(\"toplam\",toplam)\n",
    "print(\"sayac\",sayac)\n",
    "print(\"ilk giriline sayi\",baslangic)\n",
    "print(\"Son giriline sayi\",bitis)\n",
    "print(\"Ortalama\",ort)"
   ]
  },
  {
   "cell_type": "code",
   "execution_count": null,
   "id": "431ff480",
   "metadata": {},
   "outputs": [],
   "source": []
  }
 ],
 "metadata": {
  "kernelspec": {
   "display_name": "Python 3",
   "language": "python",
   "name": "python3"
  },
  "language_info": {
   "codemirror_mode": {
    "name": "ipython",
    "version": 3
   },
   "file_extension": ".py",
   "mimetype": "text/x-python",
   "name": "python",
   "nbconvert_exporter": "python",
   "pygments_lexer": "ipython3",
   "version": "3.8.11"
  }
 },
 "nbformat": 4,
 "nbformat_minor": 5
}
