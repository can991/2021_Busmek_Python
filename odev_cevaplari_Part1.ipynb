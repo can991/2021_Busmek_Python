{
 "cells": [
  {
   "cell_type": "markdown",
   "id": "5a0e6172",
   "metadata": {},
   "source": [
    "## 1) Dört işlem uygulaması"
   ]
  },
  {
   "cell_type": "code",
   "execution_count": 6,
   "id": "47fac768",
   "metadata": {},
   "outputs": [
    {
     "name": "stdout",
     "output_type": "stream",
     "text": [
      "Bir sayi giriniz: 7\n",
      "Bir sayi giriniz: 5\n",
      "Dört işlemden birini seçiniz +,-,*,/: *\n",
      "Sayıların çarpımı:  35\n"
     ]
    }
   ],
   "source": [
    "sayi1 = int(input(\"Bir sayi giriniz: \"))\n",
    "sayi2 = int(input(\"Bir sayi giriniz: \"))\n",
    "islem = input(\"Dört işlemden birini seçiniz +,-,*,/: \")\n",
    "\n",
    "if(islem == \"+\"):\n",
    "    print(\"Sayıların Toplamı: \",(sayi1+sayi2))\n",
    "elif(islem == \"-\"):\n",
    "    print(\"Sayıların Farkı: \",(sayi1-sayi2))\n",
    "elif(islem == \"*\"):\n",
    "    print(\"Sayıların Çarpımı: \",(sayi1*sayi2))\n",
    "elif(islem == \"/\"):\n",
    "    print(\"Sayıların Bölümü: \",(sayi1/sayi2))\n",
    "else:\n",
    "    print(\"Hatalı bir karakter girdiniz\")"
   ]
  },
  {
   "cell_type": "markdown",
   "id": "d8108e21",
   "metadata": {},
   "source": [
    "## 2) Geometrik şekiller: Alan hesaplama "
   ]
  },
  {
   "cell_type": "code",
   "execution_count": 8,
   "id": "59776d03",
   "metadata": {},
   "outputs": [
    {
     "name": "stdout",
     "output_type": "stream",
     "text": [
      "Kısa kenar uzunluğunu giriniz: 8\n",
      "Uzun kenar uzunluğunu giriniz: 9\n",
      "Dikdörgen Alanı:  72 mm2\n"
     ]
    }
   ],
   "source": [
    "kenar1 = int(input(\"Kısa kenar uzunluğunu giriniz: \"))\n",
    "kenar2 = int(input(\"Uzun kenar uzunluğunu giriniz: \"))\n",
    "\n",
    "print(\"Dikdörgen Alanı: \",(kenar1*kenar2),\"mm2\")"
   ]
  },
  {
   "cell_type": "markdown",
   "id": "cee8d8b6",
   "metadata": {},
   "source": [
    "## 3) Sayı aralığını toplama "
   ]
  },
  {
   "cell_type": "code",
   "execution_count": 16,
   "id": "54e2adb8",
   "metadata": {},
   "outputs": [
    {
     "name": "stdout",
     "output_type": "stream",
     "text": [
      "Bir sayi giriniz: 5\n",
      "Bir sayi giriniz: 8\n",
      "Sayı aralığı Toplamı 18\n",
      "Sayi aralığı elemanları [5, 6, 7]\n"
     ]
    }
   ],
   "source": [
    "sayi1 = int(input(\"Bir sayi giriniz: \"))\n",
    "sayi2 = int(input(\"Bir sayi giriniz: \"))\n",
    "\n",
    "toplam=0\n",
    "liste=[]\n",
    "\n",
    "for x in range(sayi1,sayi2):\n",
    "    toplam+=x\n",
    "    liste.append(x)\n",
    "    x+=1    \n",
    "print(\"Sayı Aralığı Toplamı: \",toplam)\n",
    "print(\"Sayi Aralığı Elemanları: \",liste)"
   ]
  },
  {
   "cell_type": "markdown",
   "id": "94deb43f",
   "metadata": {},
   "source": [
    "## 4)  1 ile 100 arasındaki sayıların toplamını hesaplama "
   ]
  },
  {
   "cell_type": "code",
   "execution_count": 20,
   "id": "f8b8ae17",
   "metadata": {},
   "outputs": [
    {
     "name": "stdout",
     "output_type": "stream",
     "text": [
      "1-100 arası sayıların toplamı:  4950\n"
     ]
    }
   ],
   "source": [
    "toplam=0\n",
    "for x in range(1,100):\n",
    "    toplam+=x\n",
    "    x+=1\n",
    "print(\"1-100 arası sayıların toplamı: \",toplam)"
   ]
  },
  {
   "cell_type": "markdown",
   "id": "42e0ebf8",
   "metadata": {},
   "source": [
    "## 5) 1 ile 100 arasındaki çift sayıların toplamını hesaplama"
   ]
  },
  {
   "cell_type": "code",
   "execution_count": 23,
   "id": "f03123c3",
   "metadata": {},
   "outputs": [
    {
     "name": "stdout",
     "output_type": "stream",
     "text": [
      "1-100 arası çift sayıların toplamı:  2450\n"
     ]
    }
   ],
   "source": [
    "toplam=0\n",
    "for x in range(1,100):\n",
    "    if (x%2==0):\n",
    "        toplam+=x\n",
    "        x+=1  \n",
    "print(\"1-100 arası çift sayıların toplamı: \",toplam)"
   ]
  }
 ],
 "metadata": {
  "kernelspec": {
   "display_name": "Python 3",
   "language": "python",
   "name": "python3"
  },
  "language_info": {
   "codemirror_mode": {
    "name": "ipython",
    "version": 3
   },
   "file_extension": ".py",
   "mimetype": "text/x-python",
   "name": "python",
   "nbconvert_exporter": "python",
   "pygments_lexer": "ipython3",
   "version": "3.8.11"
  }
 },
 "nbformat": 4,
 "nbformat_minor": 5
}
