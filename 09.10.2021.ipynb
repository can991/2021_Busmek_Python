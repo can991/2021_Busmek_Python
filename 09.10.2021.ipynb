{
 "cells": [
  {
   "cell_type": "code",
   "execution_count": 1,
   "metadata": {},
   "outputs": [
    {
     "name": "stdout",
     "output_type": "stream",
     "text": [
      "hello world\n"
     ]
    }
   ],
   "source": [
    "#Ekrana print komutu ile string ifadeyi yazdırma\n",
    "print(\"hello world\")"
   ]
  },
  {
   "cell_type": "code",
   "execution_count": 2,
   "metadata": {},
   "outputs": [
    {
     "name": "stdout",
     "output_type": "stream",
     "text": [
      "11\n"
     ]
    }
   ],
   "source": [
    "#Matematik işlemleri\n",
    "a=5\n",
    "b=6\n",
    "c= a+b\n",
    "print(c)\n"
   ]
  },
  {
   "cell_type": "code",
   "execution_count": 2,
   "metadata": {},
   "outputs": [
    {
     "name": "stdout",
     "output_type": "stream",
     "text": [
      "hello world\n"
     ]
    }
   ],
   "source": [
    "# Tek çift ya da 3 tırnaklı şekillerde string'ler ifade edilebilir\n",
    "print('hello world')\n"
   ]
  },
  {
   "cell_type": "code",
   "execution_count": 4,
   "metadata": {},
   "outputs": [
    {
     "name": "stdout",
     "output_type": "stream",
     "text": [
      "sonuc 3\n"
     ]
    }
   ],
   "source": [
    "#tanım yazıp sonra sonucu yazdırma örneği\n",
    "a=1\n",
    "b=2\n",
    "c=a+b\n",
    "print(\"sonuc\",c)\n"
   ]
  },
  {
   "cell_type": "code",
   "execution_count": 6,
   "metadata": {},
   "outputs": [
    {
     "name": "stdout",
     "output_type": "stream",
     "text": [
      "sonuc: 5\n"
     ]
    }
   ],
   "source": [
    "#Çoklu atama aynı satırda\n",
    "\n",
    "a , b , c = 1 ,2 , 3\n",
    "\n",
    "d= a*b+c\n",
    "\n",
    "print(\"sonuc:\",d)\n"
   ]
  },
  {
   "cell_type": "code",
   "execution_count": 8,
   "metadata": {},
   "outputs": [
    {
     "name": "stdout",
     "output_type": "stream",
     "text": [
      "1.sayiyi giriniz: 5\n"
     ]
    }
   ],
   "source": [
    "# Input komutu ile user input girebiliyor\n",
    "sayi1= input(\"1.sayiyi giriniz:\\t\")"
   ]
  },
  {
   "cell_type": "code",
   "execution_count": 2,
   "metadata": {},
   "outputs": [
    {
     "name": "stdout",
     "output_type": "stream",
     "text": [
      "1.sayiyi giriniz:\t45\n",
      "2.sayiyi giriniz:\t54\n",
      "TOPLAMA:\t 99 \n",
      "CİKARMA:\t -9 \n",
      "BOLME:\t 0.8333333333333334 \n",
      "CARPMA:\t 2430\n"
     ]
    }
   ],
   "source": [
    "#Input komutunu kullanarak\n",
    "sayi1= int(input(\"1.sayiyi giriniz:\\t\"))\n",
    "sayi2= int(input(\"2.sayiyi giriniz:\\t\"))\n",
    "\n",
    "Toplama = (sayi1+sayi2)\n",
    "Cikarma = (sayi1-sayi2)\n",
    "Bolme = (sayi1/sayi2)\n",
    "Carpma = (sayi1*sayi2)\n",
    "\n",
    "print(\"TOPLAMA:\\t\",Toplama,\"\\nCİKARMA:\\t\",Cikarma,\"\\nBOLME:\\t\",Bolme,\"\\nCARPMA:\\t\",Carpma)\n"
   ]
  },
  {
   "cell_type": "code",
   "execution_count": 13,
   "metadata": {},
   "outputs": [
    {
     "name": "stdout",
     "output_type": "stream",
     "text": [
      "1.sayiyi giriniz10\n",
      "2.sayiyi giriniz20\n",
      "ortalama 15.0\n"
     ]
    }
   ],
   "source": [
    "#input komutu ile klavyeden sayi girip ortalamalarını yazdırma\n",
    "sayi1= int(input(\"1.sayiyi giriniz\"))\n",
    "sayi2= int(input(\"2.sayiyi giriniz\"))\n",
    "\n",
    "Ortalama = (sayi1+sayi2)/2\n",
    "\n",
    "print(\"ortalama\",Ortalama)"
   ]
  },
  {
   "cell_type": "code",
   "execution_count": 18,
   "metadata": {},
   "outputs": [
    {
     "name": "stdout",
     "output_type": "stream",
     "text": [
      "..................................................\n"
     ]
    }
   ],
   "source": [
    "#sembbolü tek satırda çoklu kez yazdırma\n",
    "print(50*\".\")\n"
   ]
  },
  {
   "cell_type": "code",
   "execution_count": 22,
   "metadata": {},
   "outputs": [
    {
     "name": "stdout",
     "output_type": "stream",
     "text": [
      "T.B.M.M."
     ]
    }
   ],
   "source": [
    "#sep komutu separete alanlarına \n",
    "print(\"T\",\"B\",\"M\",\"M\",sep=\".\", end=\".\")"
   ]
  },
  {
   "cell_type": "code",
   "execution_count": 13,
   "metadata": {},
   "outputs": [
    {
     "name": "stdout",
     "output_type": "stream",
     "text": [
      "Bir kelime giriniz\tpython\n",
      "6\n",
      "<class 'str'>\n"
     ]
    }
   ],
   "source": [
    "# Veri Tipini ve toplam karakter sayisini bulma \n",
    "x = input(\"Bir kelime giriniz\\t\")\n",
    "print(len(x))\n",
    "print(type(x))"
   ]
  },
  {
   "cell_type": "code",
   "execution_count": null,
   "metadata": {},
   "outputs": [],
   "source": []
  }
 ],
 "metadata": {
  "kernelspec": {
   "display_name": "Python 3",
   "language": "python",
   "name": "python3"
  },
  "language_info": {
   "codemirror_mode": {
    "name": "ipython",
    "version": 3
   },
   "file_extension": ".py",
   "mimetype": "text/x-python",
   "name": "python",
   "nbconvert_exporter": "python",
   "pygments_lexer": "ipython3",
   "version": "3.8.11"
  }
 },
 "nbformat": 4,
 "nbformat_minor": 4
}
