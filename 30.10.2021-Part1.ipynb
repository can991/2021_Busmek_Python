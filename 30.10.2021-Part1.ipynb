{
 "cells": [
  {
   "cell_type": "code",
   "execution_count": 10,
   "id": "1c85c7d5",
   "metadata": {},
   "outputs": [
    {
     "name": "stdout",
     "output_type": "stream",
     "text": [
      "Kısa kenar uzunluğunu giriniz:\t7\n",
      "Uzun kenar uzunluğunu giriniz:\t9\n",
      "Dikdörgenin Alanı\t 63 mm2\n",
      "Dikdörgenin Çevresi\t 32 mm\n"
     ]
    }
   ],
   "source": [
    "#klavyeden girilen değerler ile matematiksel işlemler yapma\n",
    "\n",
    "a = int(input(\"Kısa kenar uzunluğunu giriniz:\\t\"))\n",
    "b = int(input(\"Uzun kenar uzunluğunu giriniz:\\t\"))\n",
    "\n",
    "c = (a*b)\n",
    "d = (2*(a+b))\n",
    "\n",
    "print(\"Dikdörgenin Alanı\\t\", c,\"mm2\")\n",
    "print(\"Dikdörgenin Çevresi\\t\",d,\"mm\")\n",
    "\n"
   ]
  },
  {
   "cell_type": "code",
   "execution_count": 11,
   "id": "481aaa33",
   "metadata": {},
   "outputs": [
    {
     "name": "stdout",
     "output_type": "stream",
     "text": [
      "7\n",
      "14\n",
      "21\n",
      "28\n",
      "35\n",
      "42\n",
      "49\n",
      "7'ye bölünebilen sayıların toplamı\t 196\n"
     ]
    }
   ],
   "source": [
    "#Range komutu ve koşul koyarak istenen değerleri yazdırma ve uygun değerlerin toplamını yazdırma\n",
    "\n",
    "toplam = 0\n",
    "for x in range(1,50):\n",
    "    if x%7==0:\n",
    "        print(x)\n",
    "        toplam=toplam+x\n",
    "print(\"7'ye bölünebilen sayıların toplamı\\t\",toplam)\n",
    "\n"
   ]
  },
  {
   "cell_type": "code",
   "execution_count": 12,
   "id": "07657195",
   "metadata": {},
   "outputs": [
    {
     "name": "stdout",
     "output_type": "stream",
     "text": [
      "Klavyeden bir sayı giriniz\t7\n",
      "Klavyeden ikinci sayıyı giriniz\t21\n",
      "8\n",
      "10\n",
      "12\n",
      "14\n",
      "16\n",
      "18\n",
      "20\n",
      "Çiftsayıların Toplamı\t 98\n"
     ]
    }
   ],
   "source": [
    "#Klaveyeden sayı girme, bu sayılar ile range belirleme\n",
    "#koşul koyarak istenen değerleri yazdırma ve uygun değerlerin toplamını yazdırma\n",
    "\n",
    "a = int(input(\"Klavyeden bir sayı giriniz\\t\"))\n",
    "b = int(input(\"Klavyeden ikinci sayıyı giriniz\\t\"))\n",
    "\n",
    "toplam= 0\n",
    "for x in range(a,b):\n",
    "    if x%2==0:\n",
    "        print(x)\n",
    "        toplam=toplam+x\n",
    "print(\"Çiftsayıların Toplamı\\t\",toplam)\n"
   ]
  },
  {
   "cell_type": "code",
   "execution_count": 19,
   "id": "aa13ed9e",
   "metadata": {},
   "outputs": [
    {
     "name": "stdout",
     "output_type": "stream",
     "text": [
      "1\n",
      "2\n",
      "3\n",
      "4\n",
      "5\n",
      "6\n"
     ]
    }
   ],
   "source": [
    "#while döngüsü örneği\n",
    "\n",
    "x=0\n",
    "\n",
    "while x<6:\n",
    "    x=x+1\n",
    "    print(x)"
   ]
  },
  {
   "cell_type": "code",
   "execution_count": 27,
   "id": "724bd8e5",
   "metadata": {},
   "outputs": [
    {
     "name": "stdout",
     "output_type": "stream",
     "text": [
      "Bir programlama dili ekleyiniz:\tAA\n",
      "['C', 'C++', 'C#', 'AA']\n"
     ]
    }
   ],
   "source": [
    "#listeye append komutu ile klavyeden girelen değeri listeye ekleme\n",
    "\n",
    "liste = [\"C\",\"C++\",\"C#\"]\n",
    "liste.append(input(\"Bir programlama dili ekleyiniz:\\t\"))\n",
    "print(liste)\n"
   ]
  },
  {
   "cell_type": "code",
   "execution_count": 28,
   "id": "caf48eec",
   "metadata": {},
   "outputs": [
    {
     "name": "stdout",
     "output_type": "stream",
     "text": [
      "Bir programlama dili cıkarınız:\tC\n",
      "['C++', 'C#']\n"
     ]
    }
   ],
   "source": [
    "#listeden remove komutu ve klavyeden değer girerek eleman çıkarma\n",
    "\n",
    "liste = [\"C\",\"C++\",\"C#\"]\n",
    "liste.remove(input(\"Bir programlama dili cıkarınız:\\t\"))\n",
    "print(liste)\n"
   ]
  }
 ],
 "metadata": {
  "kernelspec": {
   "display_name": "Python 3",
   "language": "python",
   "name": "python3"
  },
  "language_info": {
   "codemirror_mode": {
    "name": "ipython",
    "version": 3
   },
   "file_extension": ".py",
   "mimetype": "text/x-python",
   "name": "python",
   "nbconvert_exporter": "python",
   "pygments_lexer": "ipython3",
   "version": "3.8.11"
  }
 },
 "nbformat": 4,
 "nbformat_minor": 5
}
