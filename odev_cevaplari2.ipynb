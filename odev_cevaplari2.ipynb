{
 "cells": [
  {
   "cell_type": "markdown",
   "id": "8b0d7b15",
   "metadata": {},
   "source": [
    "### 1) Klavyeden girilen sayıya kadar olan sayıları toplayan python programını yazınız"
   ]
  },
  {
   "cell_type": "code",
   "execution_count": 2,
   "id": "21b4dbcb",
   "metadata": {},
   "outputs": [
    {
     "name": "stdout",
     "output_type": "stream",
     "text": [
      "Bir sayı giriniz: 5\n",
      "15\n"
     ]
    }
   ],
   "source": [
    "sayi1 = int(input(\"Bir sayı giriniz: \"))\n",
    "\n",
    "toplam = 0\n",
    "\n",
    "for x in range(1,sayi1+1):\n",
    "    toplam = toplam + x\n",
    "    \n",
    "print(toplam)"
   ]
  },
  {
   "cell_type": "markdown",
   "id": "8bea801d",
   "metadata": {},
   "source": [
    "### 2) 1 ile 100 arasındaki 7 ye bölünen sayıların toplamını ve ortalamasını alan python programını yazınız."
   ]
  },
  {
   "cell_type": "code",
   "execution_count": 19,
   "id": "655c2bff",
   "metadata": {},
   "outputs": [
    {
     "name": "stdout",
     "output_type": "stream",
     "text": [
      "7 ye bölünebilen sayıların toplamı:  735\n",
      "7 ye bölünebilen sayıların ortalaması:  52.5\n"
     ]
    }
   ],
   "source": [
    "toplam = 0\n",
    "liste=[]\n",
    "\n",
    "\n",
    "for x in range(1,100):\n",
    "    if x%7==0:\n",
    "        toplam = toplam+x\n",
    "        liste.append(x)\n",
    "        \n",
    "    else:\n",
    "        continue\n",
    " \n",
    "\n",
    "ort = (toplam/len(liste))\n",
    "\n",
    "print(\"7 ye bölünebilen sayıların toplamı: \", toplam)\n",
    "print(\"7 ye bölünebilen sayıların ortalaması: \", ort)      "
   ]
  },
  {
   "cell_type": "markdown",
   "id": "b097f166",
   "metadata": {},
   "source": [
    "### 3) Klavyeden girilen 6 sayının ortalamasını, en büyüğünü ve en küçüğünü hesaplayan ekrana yazan python programını yazınız."
   ]
  },
  {
   "cell_type": "code",
   "execution_count": 3,
   "id": "27f85188",
   "metadata": {},
   "outputs": [
    {
     "name": "stdout",
     "output_type": "stream",
     "text": [
      "Bir sayi giriniz1\n",
      "Bir sayi giriniz3\n",
      "Bir sayi giriniz5\n",
      "Bir sayi giriniz7\n",
      "Bir sayi giriniz9\n",
      "Bir sayi giriniz11\n",
      "listedeki min sayi 1\n",
      "listedeki max sayi 11\n",
      "listedeki sayilarin ortalamasi:  6.0\n"
     ]
    }
   ],
   "source": [
    "liste = []\n",
    "\n",
    "while len(liste)<6:\n",
    "    liste.append(int(input(\"Bir sayi giriniz\"))) \n",
    "    \n",
    "print(\"listedeki min sayi\",min(liste))\n",
    "print(\"listedeki max sayi\",max(liste))\n",
    "\n",
    "print(\"listedeki sayilarin ortalamasi: \", sum(liste)/len(liste))"
   ]
  },
  {
   "cell_type": "markdown",
   "id": "438d91b4",
   "metadata": {},
   "source": [
    "### 4) Klavyeden girilen vize ve final notlarının, ortalamasını, sonuç ve harf notunu hesaplayan python programını yazınız."
   ]
  },
  {
   "cell_type": "code",
   "execution_count": 5,
   "id": "f535c4fe",
   "metadata": {},
   "outputs": [
    {
     "name": "stdout",
     "output_type": "stream",
     "text": [
      "Vize notunu giriniz:\t45\n",
      "Final notunu giriniz:\t70\n",
      "Öğrencinin Ortalaması 57.5 \n",
      "GEÇTİ \n",
      "HARF NOTU: CC\n"
     ]
    }
   ],
   "source": [
    "vize = int(input(\"Vize notunu giriniz:\\t\"))\n",
    "final = int(input(\"Final notunu giriniz:\\t\"))\n",
    "\n",
    "ort = (vize+final)/2\n",
    "\n",
    "if ort > 85:\n",
    "    print(\"Öğrencinin Ortalaması {}\".format(ort),\"\\nGEÇTİ \\nHARF NOTU: AA\")\n",
    "elif ort > 70:\n",
    "    print(\"Öğrencinin Ortalaması {}\".format(ort),\"\\nGEÇTİ \\nHARF NOTU: BB\")\n",
    "elif ort > 55:\n",
    "    print(\"Öğrencinin Ortalaması {}\".format(ort),\"\\nGEÇTİ \\nHARF NOTU: CC\")\n",
    "else:\n",
    "    print(\"Öğrencinin Ortalaması {}\".format(ort),\"\\nKALDI \\nHARF NOTU: FF\")  "
   ]
  },
  {
   "cell_type": "code",
   "execution_count": null,
   "id": "aff1dc24",
   "metadata": {},
   "outputs": [],
   "source": []
  }
 ],
 "metadata": {
  "kernelspec": {
   "display_name": "Python 3",
   "language": "python",
   "name": "python3"
  },
  "language_info": {
   "codemirror_mode": {
    "name": "ipython",
    "version": 3
   },
   "file_extension": ".py",
   "mimetype": "text/x-python",
   "name": "python",
   "nbconvert_exporter": "python",
   "pygments_lexer": "ipython3",
   "version": "3.8.11"
  }
 },
 "nbformat": 4,
 "nbformat_minor": 5
}
