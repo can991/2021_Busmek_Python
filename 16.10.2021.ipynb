{
 "cells": [
  {
   "cell_type": "code",
   "execution_count": null,
   "id": "ea11fe96",
   "metadata": {},
   "outputs": [],
   "source": [
    "# Sayi girme ekrani getirtip , girilen sayiların ortlamasını alıp , Harf notu ile yazdırma\n",
    "\n",
    "sayi1= int(input(\"1.sayiyi giriniz\"))\n",
    "sayi2= int(input(\"2.sayiyi giriniz\"))\n",
    "\n",
    "ortalama = (sayi1+sayi2)/2\n",
    "\n",
    "if ortalama > 85:\n",
    "    print(\"AA\")\n",
    "elif ortalama > 70:\n",
    "    print (\"BB\")\n",
    "elif ortlama > 55:\n",
    "    print(\"CC\")\n",
    "else:\n",
    "    print(\"FF\")"
   ]
  },
  {
   "cell_type": "code",
   "execution_count": null,
   "id": "76e8c80f",
   "metadata": {},
   "outputs": [],
   "source": [
    "# : DAN-DEN    ; İSE ANLAMINA GERLMEKTEDİR"
   ]
  },
  {
   "cell_type": "code",
   "execution_count": 5,
   "id": "bf1f5246",
   "metadata": {},
   "outputs": [
    {
     "name": "stdout",
     "output_type": "stream",
     "text": [
      "1.sayiyi giriniz55\n",
      "2.sayiyi giriniz90\n",
      "BB ortalama : 72.5\n"
     ]
    }
   ],
   "source": [
    "# Sayi girme ekrani getirtip , girilen sayiların ortlamasını alıp , Harf notu ile yazdırma\n",
    "sayi1= int(input(\"1.sayiyi giriniz\"))\n",
    "sayi2= int(input(\"2.sayiyi giriniz\"))\n",
    "\n",
    "ortalama = (sayi1+sayi2)/2\n",
    "\n",
    "if ortalama > 85:\n",
    "    print(\"AA\",\"ortalama :\",ortalama)\n",
    "elif ortalama >70:\n",
    "    print(\"BB\",\"ortalama :\",ortalama)\n",
    "elif ortalama >55:\n",
    "    print(\"CC\",\"ortalama :\",ortalama)\n",
    "else:\n",
    "    print(\"FF\",\"ortalama :\",ortalama)\n",
    "    "
   ]
  },
  {
   "cell_type": "code",
   "execution_count": 14,
   "id": "9dc07044",
   "metadata": {},
   "outputs": [
    {
     "name": "stdout",
     "output_type": "stream",
     "text": [
      "1.sayiyi giriniz55\n",
      "2.sayiyi giriniz88\n",
      "3.sayiyi giriniz33\n",
      "Ortalama 58.67\n"
     ]
    }
   ],
   "source": [
    "#Round komutu ile print edilecek sayıyı yuvarlama\n",
    "sayi1= int(input(\"1.sayiyi giriniz\"))\n",
    "sayi2= int(input(\"2.sayiyi giriniz\"))\n",
    "sayi3= int(input(\"3.sayiyi giriniz\"))\n",
    "\n",
    "\n",
    "ortalama = (sayi1+sayi2+sayi3)/3\n",
    "print(\"Ortalama\",round(ortalama,2))\n"
   ]
  },
  {
   "cell_type": "code",
   "execution_count": 20,
   "id": "c5680b9b",
   "metadata": {},
   "outputs": [
    {
     "name": "stdout",
     "output_type": "stream",
     "text": [
      "Bir sayı giriniz55\n",
      "sayi tektir\n"
     ]
    }
   ],
   "source": [
    "#MOD komutu ile girilen sayının çift mi tek mi olduğunu belirleme\n",
    "x = int(input(\"Bir sayı giriniz\"))\n",
    "\n",
    "if(x%2==0):\n",
    "    print(\"sayi çifttir\")\n",
    "else:\n",
    "    print(\"sayi tektir\")\n",
    "    "
   ]
  },
  {
   "cell_type": "code",
   "execution_count": 21,
   "id": "f267eb4d",
   "metadata": {},
   "outputs": [
    {
     "name": "stdout",
     "output_type": "stream",
     "text": [
      "Bir sayı giriniz55\n",
      "6 ya bölünemez bir sayi girdiniz \n"
     ]
    }
   ],
   "source": [
    "# and komutu ile koşulları arttırma örneği\n",
    "x = int(input(\"Bir sayı giriniz\"))\n",
    "\n",
    "if(x%2==0 and x%3==0):\n",
    "    print(\"6 ya bölülenebilen bir sayi girdiniz\")\n",
    "else:\n",
    "    print(\"6 ya bölünemez bir sayi girdiniz \")"
   ]
  },
  {
   "cell_type": "code",
   "execution_count": 28,
   "id": "dc0d2958",
   "metadata": {},
   "outputs": [
    {
     "name": "stdout",
     "output_type": "stream",
     "text": [
      "lion\tking\n"
     ]
    }
   ],
   "source": [
    "# \\t komutu ile karakterler arası mesafe bırakma\n",
    "print(\"lion\\tking\")"
   ]
  },
  {
   "cell_type": "code",
   "execution_count": 1,
   "id": "2364d06c",
   "metadata": {},
   "outputs": [
    {
     "name": "stdout",
     "output_type": "stream",
     "text": [
      "Bir kelime giriniz\tpython\n",
      "6\n",
      "<class 'str'>\n"
     ]
    }
   ],
   "source": [
    "# Veri Tipini bulma \n",
    "x = input(\"Bir kelime giriniz\\t\")\n",
    "print(len(x))\n",
    "print(type(x))"
   ]
  },
  {
   "cell_type": "code",
   "execution_count": 4,
   "id": "de55852c",
   "metadata": {},
   "outputs": [
    {
     "name": "stdout",
     "output_type": "stream",
     "text": [
      "1.sayiyi giriniz\t10\n",
      "2.sayiyi giriniz\t5\n",
      "Toplama 15 \n",
      "Cikarma 5 \n",
      "Carpma 50 \n",
      "Bolme 2.0\n"
     ]
    }
   ],
   "source": [
    "# Klavyeden sayı girip 4 işlem yaptırma\n",
    "sayi1= int(input(\"1.sayiyi giriniz\\t\"))\n",
    "sayi2= int(input(\"2.sayiyi giriniz\\t\"))\n",
    "\n",
    "top = sayi1+sayi2\n",
    "cik = sayi1-sayi2\n",
    "carp = sayi1*sayi2\n",
    "bol = sayi1/sayi2\n",
    "\n",
    "print(\"Toplama\",top,\"\\nCikarma\",cik,\"\\nCarpma\",carp,\"\\nBolme\",bol)\n"
   ]
  },
  {
   "cell_type": "code",
   "execution_count": null,
   "id": "2da69dd9",
   "metadata": {},
   "outputs": [],
   "source": []
  }
 ],
 "metadata": {
  "kernelspec": {
   "display_name": "Python 3",
   "language": "python",
   "name": "python3"
  },
  "language_info": {
   "codemirror_mode": {
    "name": "ipython",
    "version": 3
   },
   "file_extension": ".py",
   "mimetype": "text/x-python",
   "name": "python",
   "nbconvert_exporter": "python",
   "pygments_lexer": "ipython3",
   "version": "3.8.11"
  }
 },
 "nbformat": 4,
 "nbformat_minor": 5
}
