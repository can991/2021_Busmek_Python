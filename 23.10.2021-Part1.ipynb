{
 "cells": [
  {
   "cell_type": "code",
   "execution_count": 2,
   "id": "0703f223",
   "metadata": {},
   "outputs": [
    {
     "name": "stdout",
     "output_type": "stream",
     "text": [
      "13 çarpı 14 , 182 eder.\n"
     ]
    }
   ],
   "source": [
    "#Birden fazla değeri format komutu ile çağırıp çalıştırma\n",
    "\n",
    "a = 13\n",
    "b = 14 \n",
    "c = a*b\n",
    "\n",
    "print(\"{} çarpı {} , {} eder.\".format(a,b,c))"
   ]
  },
  {
   "cell_type": "code",
   "execution_count": 3,
   "id": "5e614eb8",
   "metadata": {},
   "outputs": [
    {
     "name": "stdout",
     "output_type": "stream",
     "text": [
      "Bir sayı giriniz:\t25\n",
      "25 sayisi tektir\n"
     ]
    }
   ],
   "source": [
    "#klavyeden sayı girip, sayının tek mi çift olduğunu yazdırma\n",
    "\n",
    "sayi = int(input(\"Bir sayı giriniz:\\t\"))\n",
    "if (sayi%2==0):\n",
    "    print(\"{} sayisi çifttir\".format(sayi))\n",
    "else:\n",
    "    print(\"{} sayisi tektir\".format(sayi))  "
   ]
  },
  {
   "cell_type": "code",
   "execution_count": 4,
   "id": "c1ecdc84",
   "metadata": {},
   "outputs": [
    {
     "name": "stdout",
     "output_type": "stream",
     "text": [
      "Vize notunu giriniz:\t55\n",
      "Final notunu giriniz:\t78\n"
     ]
    }
   ],
   "source": [
    "#Klavyeden vize ve final notlarını girip ortalamasını yazdırma\n",
    "\n",
    "vize = int(input(\"Vize notunu giriniz:\\t\"))\n",
    "final = int(input(\"Final notunu giriniz:\\t\"))\n",
    "\n",
    "ort = (vize+final)/2"
   ]
  },
  {
   "cell_type": "code",
   "execution_count": 15,
   "id": "77a71878",
   "metadata": {},
   "outputs": [
    {
     "name": "stdout",
     "output_type": "stream",
     "text": [
      "Vize notunu giriniz:\t45\n",
      "Final notunu giriniz:\t78\n",
      "Geçti\n",
      "ortalama:  61.5\n",
      "öğrencinin vize notu 45 ve final notu 78 ve ortalaması 61.5\n"
     ]
    }
   ],
   "source": [
    "#Format komutu içinde birden fazla değişkeni kullanma örneği\n",
    "\n",
    "vize = int(input(\"Vize notunu giriniz:\\t\"))\n",
    "final = int(input(\"Final notunu giriniz:\\t\"))\n",
    "\n",
    "ort = (vize+final)/2\n",
    "\n",
    "if (ort > 49):\n",
    "    print(\"Geçti\")\n",
    "else:\n",
    "    print(\"Kaldı\")\n",
    "    \n",
    "print(\"ortalama: \",round(ort,3))\n",
    "\n",
    "print(\"öğrencinin vize notu {} ve final notu {} ve ortalaması {}\".format(vize,final,ort))"
   ]
  },
  {
   "cell_type": "code",
   "execution_count": 1,
   "id": "948c4e09",
   "metadata": {},
   "outputs": [
    {
     "name": "stdout",
     "output_type": "stream",
     "text": [
      "öğrencinin ismi\tMehmet\n",
      "Vize notunu giriniz:\t95\n",
      "Final notunu giriniz:\t98\n",
      "öğrencinin ismi Mehmet \n",
      "Ortalaması 96.5 \n",
      "GEÇTİ \n",
      "HARF NOTU: AA\n"
     ]
    }
   ],
   "source": [
    "#klavyeden vize ve final notunu girip ve,\n",
    "#format komutu kullanarak notları ve ortalamayı yazdırma ve\n",
    "# ortalamaya göre harf notunu yazdırma\n",
    "\n",
    "isim = input(\"öğrencinin ismi\\t\")\n",
    "vize = int(input(\"Vize notunu giriniz:\\t\"))\n",
    "final = int(input(\"Final notunu giriniz:\\t\"))\n",
    "\n",
    "\n",
    "ort = (vize+final)/2\n",
    "\n",
    "if ort > 85:\n",
    "    print(\"öğrencinin ismi {} \\nOrtalaması {}\".format(isim,ort),\"\\nGEÇTİ \\nHARF NOTU: AA\")\n",
    "elif ort > 70:\n",
    "    print(\"öğrencinin ismi {} \\nOrtalaması {}\".format(isim,ort),\"\\nGEÇTİ \\nHARF NOTU: BB\")\n",
    "elif ort > 55:\n",
    "    print(\"öğrencinin ismi {} \\nOrtalaması {}\".format(isim,ort),\"\\nGEÇTİ \\nHARF NOTU: CC\")\n",
    "else:\n",
    "    print(\"öğrencinin ismi {} \\nOrtalaması {}\".format(isim,ort),\"\\nKALDI \\nHARF NOTU: FF\")  "
   ]
  },
  {
   "cell_type": "code",
   "execution_count": 24,
   "id": "f938fc5d",
   "metadata": {},
   "outputs": [
    {
     "name": "stdout",
     "output_type": "stream",
     "text": [
      "1 python\n",
      "2 python\n",
      "3 python\n",
      "4 python\n",
      "5 python\n"
     ]
    }
   ],
   "source": [
    "#liste oluşturup, liste içindeki elemanları yazdırma\n",
    "\n",
    "sayilar = [1,2,3,4,5]\n",
    "for x in sayilar:\n",
    "    print(x,\"python\")"
   ]
  },
  {
   "cell_type": "code",
   "execution_count": 9,
   "id": "3cece56d",
   "metadata": {},
   "outputs": [
    {
     "name": "stdout",
     "output_type": "stream",
     "text": [
      "1\n",
      "6\n"
     ]
    }
   ],
   "source": [
    "#for döngüsü ile istenilen aralıktaki sayıları range komutu ile yazdırma\n",
    "\n",
    "for x in range(1,11,5):\n",
    "    print(x)"
   ]
  }
 ],
 "metadata": {
  "kernelspec": {
   "display_name": "Python 3",
   "language": "python",
   "name": "python3"
  },
  "language_info": {
   "codemirror_mode": {
    "name": "ipython",
    "version": 3
   },
   "file_extension": ".py",
   "mimetype": "text/x-python",
   "name": "python",
   "nbconvert_exporter": "python",
   "pygments_lexer": "ipython3",
   "version": "3.8.11"
  }
 },
 "nbformat": 4,
 "nbformat_minor": 5
}
