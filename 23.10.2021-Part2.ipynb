{
 "cells": [
  {
   "cell_type": "code",
   "execution_count": 26,
   "id": "34800b9a",
   "metadata": {},
   "outputs": [
    {
     "name": "stdout",
     "output_type": "stream",
     "text": [
      "4\n",
      "5\n",
      "6\n",
      "7\n"
     ]
    }
   ],
   "source": [
    "#liste oluşturup bu listeye koşul ekleyip istenilen değeleri yazdırma\n",
    "\n",
    "sayi=[1,2,3,4,5,6,7]\n",
    "\n",
    "for x in sayi:\n",
    "    if(x>3):\n",
    "        print(x)       "
   ]
  },
  {
   "cell_type": "code",
   "execution_count": 72,
   "id": "6ba8aef9",
   "metadata": {},
   "outputs": [
    {
     "name": "stdout",
     "output_type": "stream",
     "text": [
      "4\n",
      "6\n",
      "8\n"
     ]
    }
   ],
   "source": [
    "#liste oluşturup bu listeye koşul ekleyip istenilen değeleri yazdırma\n",
    "sayi=[1,2,3,4,5,6,7,8]\n",
    "\n",
    "for x in sayi:\n",
    "    if(x>3):\n",
    "        if(x%2==0):\n",
    "            print(x)        "
   ]
  },
  {
   "cell_type": "code",
   "execution_count": 68,
   "id": "0252e2bb",
   "metadata": {},
   "outputs": [
    {
     "name": "stdout",
     "output_type": "stream",
     "text": [
      "Saat kaç:\t4\n",
      "Kaç geçiyor:\t17\n",
      "4 saat ve 17 dakika --> 257 dakika ve 15420 saniye \n"
     ]
    }
   ],
   "source": [
    "#klavyyeden saati ve dakikayı girme\n",
    "#girilen değeri dakika ve saniyeye çevirme\n",
    "#format komutunu kullanma\n",
    "\n",
    "saat = int(input(\"Saat kaç:\\t\"))\n",
    "dak = int(input(\"Kaç geçiyor:\\t\"))\n",
    "\n",
    "dakika = (saat*60)+dak\n",
    "saniye = (saat*3600)+(dak*60)\n",
    "\n",
    "print(\"{} saat ve {} dakika --> {} dakika ve {} saniye \".format(saat,dak,dakika,saniye))"
   ]
  },
  {
   "cell_type": "code",
   "execution_count": 70,
   "id": "70115aa8",
   "metadata": {},
   "outputs": [
    {
     "name": "stdout",
     "output_type": "stream",
     "text": [
      "Birinci Sayiyi Giriniz:\t4\n",
      "ikinci Sayiyi Giriniz:\t12\n",
      "4\n",
      "6\n",
      "8\n",
      "10\n",
      "çift sayiların toplamı 28\n"
     ]
    }
   ],
   "source": [
    "#klavyeden sayılar girme ve range oluşturma\n",
    "#çift sayıları bulma ve toplamını yazdırma\n",
    "\n",
    "toplam = 0\n",
    "sayi1 = int(input(\"Birinci Sayiyi Giriniz:\\t\"))\n",
    "sayi2 = int(input(\"ikinci Sayiyi Giriniz:\\t\"))\n",
    "for x in range(sayi1,sayi2):\n",
    "    if x%2==0:\n",
    "        print(x)\n",
    "        toplam=toplam+x\n",
    "print(\"çift sayiların toplamı\",toplam)  "
   ]
  },
  {
   "cell_type": "code",
   "execution_count": 48,
   "id": "5cf58446",
   "metadata": {},
   "outputs": [
    {
     "name": "stdout",
     "output_type": "stream",
     "text": [
      "Birinci Sayi Giriniz:\t1\n",
      "İkinci Sayi Giriniz:\t9\n",
      "6\n",
      "7\n",
      "8\n",
      "Toplam 21\n"
     ]
    }
   ],
   "source": [
    "#klavyeden sayılar girme ve range oluşturma\n",
    "#Belirlenen koşuldan büyük olanları bulma ve \n",
    "#koşula uyan sayıların toplamını yazdırma\n",
    "\n",
    "sayi1 = int(input(\"Birinci Sayi Giriniz:\\t\"))\n",
    "sayi2 = int(input(\"İkinci Sayi Giriniz:\\t\"))\n",
    "\n",
    "toplam = 0                              \n",
    "\n",
    "for x in range(sayi1,sayi2): \n",
    "    if (x>5):\n",
    "        toplam = toplam+x\n",
    "        print(x)\n",
    "print(\"Toplam\",toplam)"
   ]
  },
  {
   "cell_type": "code",
   "execution_count": 5,
   "id": "a8ffb1f4",
   "metadata": {},
   "outputs": [
    {
     "name": "stdout",
     "output_type": "stream",
     "text": [
      "0\n",
      "2\n",
      "4\n",
      "6\n",
      "8\n",
      "10\n",
      "12\n"
     ]
    }
   ],
   "source": [
    "#break ve continue komutunu kullanarak for döngüsünde işlem yapma\n",
    "for x in range(0,20):\n",
    "    if (x>12):\n",
    "        break\n",
    "        \n",
    "    if (x%2==1):\n",
    "        continue\n",
    "    print(x)"
   ]
  },
  {
   "cell_type": "code",
   "execution_count": 64,
   "id": "93a65549",
   "metadata": {},
   "outputs": [
    {
     "name": "stdout",
     "output_type": "stream",
     "text": [
      "13\n",
      "14\n",
      "15\n",
      "16\n",
      "17\n",
      "18\n",
      "19\n",
      "toplam 112\n"
     ]
    }
   ],
   "source": [
    "#for döngüsünde aralık oluşturuğ koşula uyan sayıları ve toplamını yazdırma\n",
    "\n",
    "toplam = 0\n",
    "for x in range(0,20):\n",
    "    if (x>12):\n",
    "        toplam= toplam+x\n",
    "        print(x)      \n",
    "print(\"toplam\",toplam)"
   ]
  }
 ],
 "metadata": {
  "kernelspec": {
   "display_name": "Python 3",
   "language": "python",
   "name": "python3"
  },
  "language_info": {
   "codemirror_mode": {
    "name": "ipython",
    "version": 3
   },
   "file_extension": ".py",
   "mimetype": "text/x-python",
   "name": "python",
   "nbconvert_exporter": "python",
   "pygments_lexer": "ipython3",
   "version": "3.8.11"
  }
 },
 "nbformat": 4,
 "nbformat_minor": 5
}
